{
 "cells": [
  {
   "cell_type": "code",
   "execution_count": 2,
   "source": [
    "import numpy as np\n",
    "import pandas as pd\n",
    "\n",
    "import optuna\n",
    "\n",
    "from sklearn.metrics import mean_absolute_error as mae\n",
    "from sklearn.preprocessing import RobustScaler, normalize\n",
    "from sklearn.model_selection import train_test_split, GroupKFold, KFold\n",
    "\n",
    "from IPython.display import display\n",
    "\n",
    "from sklearn.preprocessing import OrdinalEncoder\n"
   ],
   "outputs": [],
   "metadata": {}
  },
  {
   "cell_type": "code",
   "execution_count": 3,
   "source": [
    "df = pd.read_csv(\"../../dataset/kaggle_ventilator/train_5folds.csv\")\n",
    "test_df = pd.read_csv(\"../../dataset/kaggle_ventilator/test.csv\")"
   ],
   "outputs": [],
   "metadata": {}
  },
  {
   "cell_type": "code",
   "execution_count": 4,
   "source": [
    "def add_features(df, transform=\"robust\"):\n",
    "    df['area'] = df['time_step'] * df['u_in']\n",
    "    df['area'] = df.groupby('breath_id')['area'].cumsum()\n",
    "    \n",
    "    df['u_in_cumsum'] = (df['u_in']).groupby(df['breath_id']).cumsum()\n",
    "    \n",
    "    df['u_in_lag1'] = df.groupby('breath_id')['u_in'].shift(1)\n",
    "    df['u_out_lag1'] = df.groupby('breath_id')['u_out'].shift(1)\n",
    "    df['u_in_lag_back1'] = df.groupby('breath_id')['u_in'].shift(-1)\n",
    "    df['u_out_lag_back1'] = df.groupby('breath_id')['u_out'].shift(-1)\n",
    "    df['u_in_lag2'] = df.groupby('breath_id')['u_in'].shift(2)\n",
    "    df['u_out_lag2'] = df.groupby('breath_id')['u_out'].shift(2)\n",
    "    df['u_in_lag_back2'] = df.groupby('breath_id')['u_in'].shift(-2)\n",
    "    df['u_out_lag_back2'] = df.groupby('breath_id')['u_out'].shift(-2)\n",
    "    df['u_in_lag3'] = df.groupby('breath_id')['u_in'].shift(3)\n",
    "    df['u_out_lag3'] = df.groupby('breath_id')['u_out'].shift(3)\n",
    "    df['u_in_lag_back3'] = df.groupby('breath_id')['u_in'].shift(-3)\n",
    "    df['u_out_lag_back3'] = df.groupby('breath_id')['u_out'].shift(-3)\n",
    "    df['u_in_lag4'] = df.groupby('breath_id')['u_in'].shift(4)\n",
    "    df['u_out_lag4'] = df.groupby('breath_id')['u_out'].shift(4)\n",
    "    df['u_in_lag_back4'] = df.groupby('breath_id')['u_in'].shift(-4)\n",
    "    df['u_out_lag_back4'] = df.groupby('breath_id')['u_out'].shift(-4)\n",
    "    df = df.fillna(0)\n",
    "    \n",
    "    df['breath_id__u_in__max'] = df.groupby(['breath_id'])['u_in'].transform('max')\n",
    "    df['breath_id__u_out__max'] = df.groupby(['breath_id'])['u_out'].transform('max')\n",
    "    \n",
    "    df['u_in_diff1'] = df['u_in'] - df['u_in_lag1']\n",
    "    df['u_out_diff1'] = df['u_out'] - df['u_out_lag1']\n",
    "    df['u_in_diff2'] = df['u_in'] - df['u_in_lag2']\n",
    "    df['u_out_diff2'] = df['u_out'] - df['u_out_lag2']\n",
    "    \n",
    "    df['breath_id__u_in__diffmax'] = df.groupby(['breath_id'])['u_in'].transform('max') - df['u_in']\n",
    "    df['breath_id__u_in__diffmean'] = df.groupby(['breath_id'])['u_in'].transform('mean') - df['u_in']\n",
    "    \n",
    "    df['breath_id__u_in__diffmax'] = df.groupby(['breath_id'])['u_in'].transform('max') - df['u_in']\n",
    "    df['breath_id__u_in__diffmean'] = df.groupby(['breath_id'])['u_in'].transform('mean') - df['u_in']\n",
    "    \n",
    "    df['u_in_diff3'] = df['u_in'] - df['u_in_lag3']\n",
    "    df['u_out_diff3'] = df['u_out'] - df['u_out_lag3']\n",
    "    df['u_in_diff4'] = df['u_in'] - df['u_in_lag4']\n",
    "    df['u_out_diff4'] = df['u_out'] - df['u_out_lag4']\n",
    "    df['cross']= df['u_in']*df['u_out']\n",
    "    df['cross2']= df['time_step']*df['u_out']\n",
    "    \n",
    "    r_map = {5: 0, 20: 1, 50: 2}\n",
    "    c_map = {10: 0, 20: 1, 50: 2}\n",
    "    df['R'] = df['R'].map(r_map)\n",
    "    df['C'] = df['C'].map(c_map)\n",
    "    \n",
    "    return df\n"
   ],
   "outputs": [],
   "metadata": {}
  },
  {
   "cell_type": "code",
   "execution_count": 5,
   "source": [
    "train = add_features(df)\n",
    "test = add_features(test_df)"
   ],
   "outputs": [],
   "metadata": {}
  },
  {
   "cell_type": "code",
   "execution_count": 7,
   "source": [
    "RS = RobustScaler()"
   ],
   "outputs": [],
   "metadata": {}
  },
  {
   "cell_type": "code",
   "execution_count": 8,
   "source": [
    "cont_seq_cols=[\n",
    "    'time_step', 'u_in', 'u_out',\n",
    "    'area', 'u_in_cumsum', 'u_in_lag1', 'u_out_lag1', 'u_in_lag_back1',\n",
    "    'u_out_lag_back1', 'u_in_lag2', 'u_out_lag2', 'u_in_lag_back2',\n",
    "    'u_out_lag_back2', 'u_in_lag3', 'u_out_lag3', 'u_in_lag_back3',\n",
    "    'u_out_lag_back3', 'u_in_lag4', 'u_out_lag4', 'u_in_lag_back4',\n",
    "    'u_out_lag_back4', 'breath_id__u_in__max', 'breath_id__u_out__max',\n",
    "    'u_in_diff1', 'u_out_diff1', 'u_in_diff2', 'u_out_diff2',\n",
    "    'breath_id__u_in__diffmax', 'breath_id__u_in__diffmean', 'u_in_diff3',\n",
    "    'u_out_diff3', 'u_in_diff4', 'u_out_diff4', 'cross', 'cross2'\n",
    "]"
   ],
   "outputs": [],
   "metadata": {}
  },
  {
   "cell_type": "code",
   "execution_count": 9,
   "source": [
    "train[cont_seq_cols] = RS.fit_transform(train[cont_seq_cols])\n",
    "test[cont_seq_cols] = RS.fit_transform(test[cont_seq_cols])"
   ],
   "outputs": [],
   "metadata": {}
  },
  {
   "cell_type": "code",
   "execution_count": 11,
   "source": [
    "train.to_csv(\"../../dataset/kaggle_ventilator/train_5folds_nb1_robust.csv\", index=False)\n",
    "test.to_csv(\"../../dataset/kaggle_ventilator/test_nb1_robust.csv\", index=False)"
   ],
   "outputs": [],
   "metadata": {}
  },
  {
   "cell_type": "code",
   "execution_count": 12,
   "source": [
    "sorted(cont_seq_cols)"
   ],
   "outputs": [
    {
     "output_type": "execute_result",
     "data": {
      "text/plain": [
       "['area',\n",
       " 'breath_id__u_in__diffmax',\n",
       " 'breath_id__u_in__diffmean',\n",
       " 'breath_id__u_in__max',\n",
       " 'breath_id__u_out__max',\n",
       " 'cross',\n",
       " 'cross2',\n",
       " 'time_step',\n",
       " 'u_in',\n",
       " 'u_in_cumsum',\n",
       " 'u_in_diff1',\n",
       " 'u_in_diff2',\n",
       " 'u_in_diff3',\n",
       " 'u_in_diff4',\n",
       " 'u_in_lag1',\n",
       " 'u_in_lag2',\n",
       " 'u_in_lag3',\n",
       " 'u_in_lag4',\n",
       " 'u_in_lag_back1',\n",
       " 'u_in_lag_back2',\n",
       " 'u_in_lag_back3',\n",
       " 'u_in_lag_back4',\n",
       " 'u_out',\n",
       " 'u_out_diff1',\n",
       " 'u_out_diff2',\n",
       " 'u_out_diff3',\n",
       " 'u_out_diff4',\n",
       " 'u_out_lag1',\n",
       " 'u_out_lag2',\n",
       " 'u_out_lag3',\n",
       " 'u_out_lag4',\n",
       " 'u_out_lag_back1',\n",
       " 'u_out_lag_back2',\n",
       " 'u_out_lag_back3',\n",
       " 'u_out_lag_back4']"
      ]
     },
     "metadata": {},
     "execution_count": 12
    }
   ],
   "metadata": {}
  },
  {
   "cell_type": "code",
   "execution_count": null,
   "source": [],
   "outputs": [],
   "metadata": {}
  }
 ],
 "metadata": {
  "orig_nbformat": 4,
  "language_info": {
   "name": "python",
   "version": "3.7.4",
   "mimetype": "text/x-python",
   "codemirror_mode": {
    "name": "ipython",
    "version": 3
   },
   "pygments_lexer": "ipython3",
   "nbconvert_exporter": "python",
   "file_extension": ".py"
  },
  "kernelspec": {
   "name": "python3",
   "display_name": "Python 3.7.4 64-bit ('miniconda3-4.7.12': pyenv)"
  },
  "interpreter": {
   "hash": "ac74525c60403b4b42ba838da817bf2d8686e4304fe401d6803b641859ccdf44"
  }
 },
 "nbformat": 4,
 "nbformat_minor": 2
}